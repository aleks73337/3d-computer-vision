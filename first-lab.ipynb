{
 "cells": [
  {
   "cell_type": "code",
   "execution_count": 14,
   "metadata": {},
   "outputs": [],
   "source": [
    "from IPython.display import IFrame\n",
    "import numpy as np\n",
    "import sklearn"
   ]
  },
  {
   "cell_type": "code",
   "execution_count": 6,
   "metadata": {
    "scrolled": false
   },
   "outputs": [
    {
     "data": {
      "text/html": [
       "\n",
       "        <iframe\n",
       "            width=\"600\"\n",
       "            height=\"800\"\n",
       "            src=\"dz-1.pdf\"\n",
       "            frameborder=\"0\"\n",
       "            allowfullscreen\n",
       "        ></iframe>\n",
       "        "
      ],
      "text/plain": [
       "<IPython.lib.display.IFrame at 0x1fa839614a8>"
      ]
     },
     "execution_count": 6,
     "metadata": {},
     "output_type": "execute_result"
    }
   ],
   "source": [
    "IFrame(\"dz-1.pdf\", width=600, height=800)"
   ]
  },
  {
   "cell_type": "markdown",
   "metadata": {},
   "source": [
    "<b> 1. </b>"
   ]
  },
  {
   "cell_type": "code",
   "execution_count": 181,
   "metadata": {},
   "outputs": [],
   "source": [
    "A = np.array([(0.5, 2.16506351, 0.4330127), (-0.8660254, 1.25, 0.25), (0, 0.5, 2.5)])"
   ]
  },
  {
   "cell_type": "code",
   "execution_count": 182,
   "metadata": {},
   "outputs": [
    {
     "data": {
      "text/plain": [
       "array([[ 0.5       ,  2.16506351,  0.4330127 ],\n",
       "       [-0.8660254 ,  1.25      ,  0.25      ],\n",
       "       [ 0.        ,  0.5       ,  2.5       ]])"
      ]
     },
     "execution_count": 182,
     "metadata": {},
     "output_type": "execute_result"
    }
   ],
   "source": [
    "A"
   ]
  },
  {
   "cell_type": "code",
   "execution_count": 183,
   "metadata": {},
   "outputs": [],
   "source": [
    "u, s, v = np.linalg.svd(A)"
   ]
  },
  {
   "cell_type": "markdown",
   "metadata": {},
   "source": [
    "Formula = U * VT"
   ]
  },
  {
   "cell_type": "code",
   "execution_count": 184,
   "metadata": {},
   "outputs": [],
   "source": [
    "res = np.matmul(u, v.T)"
   ]
  },
  {
   "cell_type": "code",
   "execution_count": 185,
   "metadata": {},
   "outputs": [
    {
     "name": "stdout",
     "output_type": "stream",
     "text": [
      "Ближайщая орготональная матрица:\n",
      "[[ 0.07945931  0.78656609 -0.61237243]\n",
      " [ 0.86237244 -0.36237244 -0.35355339]\n",
      " [-0.5        -0.5        -0.70710678]]\n"
     ]
    }
   ],
   "source": [
    "print(\"Ближайщая орготональная матрица:\")\n",
    "print(res)"
   ]
  },
  {
   "cell_type": "code",
   "execution_count": 193,
   "metadata": {},
   "outputs": [
    {
     "name": "stdout",
     "output_type": "stream",
     "text": [
      "Косинус угла между матрицами: -0.23351976012008308\n",
      "Угол между матрицами: 103.50438375459079\n"
     ]
    }
   ],
   "source": [
    "trace_ab = np.trace(np.matmul(A, np.array(res)))\n",
    "trace_aa = np.trace(np.matmul(A, A.T))\n",
    "trace_bb = np.trace(np.matmul(res, np.array(res).T))\n",
    "cos_A =  trace / np.sqrt(trace_aa * trace_bb)\n",
    "print(\"Косинус угла между матрицами: {}\".format(cos_A))\n",
    "\n",
    "import math\n",
    "\n",
    "angle = math.degrees(math.acos(cos_A))\n",
    "print(\"Угол между матрицами: {}\".format(angle))"
   ]
  },
  {
   "cell_type": "markdown",
   "metadata": {},
   "source": [
    "<b> 2. </b>"
   ]
  },
  {
   "cell_type": "code",
   "execution_count": 195,
   "metadata": {},
   "outputs": [],
   "source": [
    "def create_matrix(n):\n",
    "    result_matrix = np.zeros(shape=[n,n])\n",
    "    for i in range(n):\n",
    "        for j in range(n):\n",
    "            result_matrix[i,j] = 1 / ((i + 1) + (j + 1) - 1)\n",
    "    return result_matrix"
   ]
  },
  {
   "attachments": {
    "image.png": {
     "image/png": "[encoded data removed]"
    }
   },
   "cell_type": "markdown",
   "metadata": {},
   "source": [
    "![image.png](attachment:image.png)"
   ]
  },
  {
   "cell_type": "code",
   "execution_count": 196,
   "metadata": {},
   "outputs": [],
   "source": [
    "def find_invert_matrix(n):\n",
    "    A = create_matrix(n)\n",
    "    u, s, v = np.linalg.svd(A)\n",
    "    s = np.diagflat(s)\n",
    "    for i in range(n):\n",
    "        for j in range(n):\n",
    "            if (i == j):\n",
    "                s[i,j] = 1/s[i,j]\n",
    "    inv_A = np.matmul(np.matmul(v, s), u.T)\n",
    "    print(\"Обратная матрица к квадратной {}x{}\".format(n,n))\n",
    "    print(inv_A)\n",
    "    return inv_A"
   ]
  },
  {
   "cell_type": "code",
   "execution_count": 197,
   "metadata": {},
   "outputs": [
    {
     "name": "stdout",
     "output_type": "stream",
     "text": [
      "Обратная матрица к квадратной 3x3\n",
      "[[ -16.9302925    88.12283431  -80.22043553]\n",
      " [ -33.5161334   174.47633215 -163.6405816 ]\n",
      " [  29.44544103 -179.86766133  180.23995611]]\n"
     ]
    }
   ],
   "source": [
    "find_invert_matrix(n = 3)\n",
    "pass"
   ]
  },
  {
   "cell_type": "code",
   "execution_count": 198,
   "metadata": {},
   "outputs": [
    {
     "name": "stdout",
     "output_type": "stream",
     "text": [
      "Обратная матрица к квадратной 10x10\n",
      "[[-2.00061729e+06  1.71427955e+08 -3.62582830e+09  3.27647749e+10\n",
      "  -1.55467153e+11  4.25422420e+11 -6.95159673e+11  6.69363481e+11\n",
      "  -3.50270621e+11  7.68044385e+10]\n",
      " [-4.04027366e+06  3.46368227e+08 -7.32902666e+09  6.62531582e+10\n",
      "  -3.14470346e+11  8.60770502e+11 -1.40690322e+12  1.35501148e+12\n",
      "  -7.09212273e+11  1.55539966e+11]\n",
      " [ 5.65205368e+06 -4.85164867e+08  1.02773091e+10 -9.29952238e+10\n",
      "   4.41778111e+11 -1.21015250e+12  1.97929090e+12 -1.90744000e+12\n",
      "   9.98897322e+11 -2.19180077e+11]\n",
      " [ 6.69216736e+06 -5.75887318e+08  1.22253194e+10 -1.10827709e+11\n",
      "   5.27346586e+11 -1.44661036e+12  2.36902725e+12 -2.28560371e+12\n",
      "   1.19814723e+12 -2.63139885e+11]\n",
      " [ 7.01756292e+06 -6.06506985e+08  1.29222208e+10 -1.17508304e+11\n",
      "   5.60624600e+11 -1.54145907e+12  2.52947873e+12 -2.44478079e+12\n",
      "   1.28363462e+12 -2.82317438e+11]\n",
      " [ 6.54000990e+06 -5.69278121e+08  1.21996626e+10 -1.11473162e+11\n",
      "   5.33991468e+11 -1.47331507e+12  2.42487758e+12 -2.34977865e+12\n",
      "   1.23657321e+12 -2.72517216e+11]\n",
      " [ 5.33191786e+06 -4.69592367e+08  1.01555428e+10 -9.34728481e+10\n",
      "   4.50429216e+11 -1.24890014e+12  2.06407657e+12 -2.00725909e+12\n",
      "   1.05956264e+12 -2.34132014e+11]\n",
      " [ 3.66892573e+06 -3.29637209e+08  7.23271292e+09 -6.73025114e+10\n",
      "   3.27096338e+11 -9.13146166e+11  1.51760958e+12 -1.48269412e+12\n",
      "   7.85732088e+11 -1.74205362e+11]\n",
      " [ 1.98122973e+06 -1.84614349e+08  4.14847090e+09 -3.92509223e+10\n",
      "   1.93106525e+11 -5.44125680e+11  9.10933218e+11 -8.95207538e+11\n",
      "   4.76687434e+11 -1.06111037e+11]\n",
      " [-6.99185636e+05  7.04090947e+07 -1.65056544e+09  1.60317097e+10\n",
      "  -8.02758892e+10  2.29058989e+11 -3.87079402e+11  3.83149262e+11\n",
      "  -2.05189285e+11  4.58864457e+10]]\n"
     ]
    }
   ],
   "source": [
    "find_invert_matrix(n = 10)\n",
    "pass"
   ]
  },
  {
   "cell_type": "markdown",
   "metadata": {},
   "source": [
    "<b> 3. </b>"
   ]
  },
  {
   "cell_type": "code",
   "execution_count": 199,
   "metadata": {},
   "outputs": [],
   "source": [
    "def find_quation_solution(n):\n",
    "    b = np.zeros(n).T\n",
    "    A = create_matrix(n)\n",
    "    u, s, v = np.linalg.svd(A)\n",
    "    x = []\n",
    "    for i in range(n):\n",
    "        if (not np.isclose(s[i], 0, atol=0.0001)):\n",
    "            continue\n",
    "        else:\n",
    "            x.append(v[i, :])\n",
    "    return x"
   ]
  },
  {
   "cell_type": "code",
   "execution_count": 200,
   "metadata": {},
   "outputs": [
    {
     "name": "stdout",
     "output_type": "stream",
     "text": [
      "Решения уравнения AX = 0\n",
      "[array([-0.02919332,  0.32871206, -0.79141115,  0.51455275])]\n"
     ]
    }
   ],
   "source": [
    "res = find_quation_solution(4)\n",
    "print(\"Решения уравнения AX = 0\")\n",
    "print(res)"
   ]
  },
  {
   "cell_type": "code",
   "execution_count": null,
   "metadata": {},
   "outputs": [],
   "source": []
  }
 ],
 "metadata": {
  "kernelspec": {
   "display_name": "Python 3",
   "language": "python",
   "name": "python3"
  },
  "language_info": {
   "codemirror_mode": {
    "name": "ipython",
    "version": 3
   },
   "file_extension": ".py",
   "mimetype": "text/x-python",
   "name": "python",
   "nbconvert_exporter": "python",
   "pygments_lexer": "ipython3",
   "version": "3.6.7"
  }
 },
 "nbformat": 4,
 "nbformat_minor": 2
}
